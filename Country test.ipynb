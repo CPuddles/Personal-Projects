{
 "cells": [
  {
   "cell_type": "code",
   "execution_count": 16,
   "id": "afdcc30c",
   "metadata": {},
   "outputs": [
    {
     "name": "stderr",
     "output_type": "stream",
     "text": [
      "2025-07-20 16:05:38.888 Thread 'MainThread': missing ScriptRunContext! This warning can be ignored when running in bare mode.\n",
      "2025-07-20 16:05:38.889 Thread 'MainThread': missing ScriptRunContext! This warning can be ignored when running in bare mode.\n",
      "2025-07-20 16:05:38.890 Thread 'MainThread': missing ScriptRunContext! This warning can be ignored when running in bare mode.\n"
     ]
    },
    {
     "name": "stdout",
     "output_type": "stream",
     "text": [
      "0             Aruba\n",
      "1       Afghanistan\n",
      "2            Angola\n",
      "3           Albania\n",
      "4           Andorra\n",
      "           ...     \n",
      "213     Yemen, Rep.\n",
      "214    South Africa\n",
      "215          Zambia\n",
      "216        Zimbabwe\n",
      "217             NaN\n",
      "Name: country_name, Length: 218, dtype: object\n"
     ]
    },
    {
     "name": "stderr",
     "output_type": "stream",
     "text": [
      "2025-07-20 16:05:39.830 Thread 'MainThread': missing ScriptRunContext! This warning can be ignored when running in bare mode.\n",
      "2025-07-20 16:05:39.831 Thread 'MainThread': missing ScriptRunContext! This warning can be ignored when running in bare mode.\n",
      "2025-07-20 16:05:39.838 Thread 'MainThread': missing ScriptRunContext! This warning can be ignored when running in bare mode.\n",
      "2025-07-20 16:05:39.839 Thread 'MainThread': missing ScriptRunContext! This warning can be ignored when running in bare mode.\n",
      "2025-07-20 16:05:39.840 Thread 'MainThread': missing ScriptRunContext! This warning can be ignored when running in bare mode.\n"
     ]
    },
    {
     "data": {
      "text/plain": [
       "DeltaGenerator()"
      ]
     },
     "execution_count": 16,
     "metadata": {},
     "output_type": "execute_result"
    }
   ],
   "source": [
    "import pandas as pd\n",
    "df = pd.read_csv(r\"C:\\country_level_data.csv\")\n",
    "print(df['country_name'])\n",
    "\n",
    "import streamlit as st\n",
    "import plotly.express as px\n",
    "import geopandas as gpd\n",
    "st.title('Country Level Data')\n",
    "world = gpd.read_file(r\"C:\\Users\\ChrisPuduski\\ne_110m_admin_0_countries\\ne_110m_admin_0_countries.shp\")\n",
    "fig = px.choropleth(world, geojson=world.geometry, locations=world.index, color=world['CONTINENT'], hover_name=world['NAME'], projection=\"natural earth\")\n",
    "\n",
    "fig.update_geos(fitbounds=\"locations\", visible=False)\n",
    "st.plotly_chart(fig, use_container_width=True)\n",
    "\n",
    "      "
   ]
  }
 ],
 "metadata": {
  "kernelspec": {
   "display_name": "Python 3",
   "language": "python",
   "name": "python3"
  },
  "language_info": {
   "codemirror_mode": {
    "name": "ipython",
    "version": 3
   },
   "file_extension": ".py",
   "mimetype": "text/x-python",
   "name": "python",
   "nbconvert_exporter": "python",
   "pygments_lexer": "ipython3",
   "version": "3.13.5"
  }
 },
 "nbformat": 4,
 "nbformat_minor": 5
}
