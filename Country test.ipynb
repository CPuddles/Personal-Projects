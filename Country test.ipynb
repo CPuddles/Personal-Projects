{
 "cells": [
  {
   "cell_type": "code",
   "execution_count": null,
   "id": "afdcc30c",
   "metadata": {},
   "outputs": [
    {
     "name": "stdout",
     "output_type": "stream",
     "text": [
      "0             Aruba\n",
      "1       Afghanistan\n",
      "2            Angola\n",
      "3           Albania\n",
      "4           Andorra\n",
      "           ...     \n",
      "213     Yemen, Rep.\n",
      "214    South Africa\n",
      "215          Zambia\n",
      "216        Zimbabwe\n",
      "217             NaN\n",
      "Name: country_name, Length: 218, dtype: object\n"
     ]
    },
    {
     "name": "stderr",
     "output_type": "stream",
     "text": [
      "2025-07-27 15:16:31.921 WARNING streamlit.runtime.scriptrunner_utils.script_run_context: Thread 'MainThread': missing ScriptRunContext! This warning can be ignored when running in bare mode.\n",
      "2025-07-27 15:16:32.298 \n",
      "  \u001b[33m\u001b[1mWarning:\u001b[0m to view this Streamlit app on a browser, run it with the following\n",
      "  command:\n",
      "\n",
      "    streamlit run C:\\Users\\ChrisPuduski\\AppData\\Local\\Packages\\PythonSoftwareFoundation.Python.3.13_qbz5n2kfra8p0\\LocalCache\\local-packages\\Python313\\site-packages\\ipykernel_launcher.py [ARGUMENTS]\n",
      "2025-07-27 15:16:32.299 Thread 'MainThread': missing ScriptRunContext! This warning can be ignored when running in bare mode.\n",
      "2025-07-27 15:16:32.300 Thread 'MainThread': missing ScriptRunContext! This warning can be ignored when running in bare mode.\n",
      "2025-07-27 15:16:32.302 Thread 'MainThread': missing ScriptRunContext! This warning can be ignored when running in bare mode.\n",
      "2025-07-27 15:16:32.302 Thread 'MainThread': missing ScriptRunContext! This warning can be ignored when running in bare mode.\n",
      "2025-07-27 15:16:32.303 Thread 'MainThread': missing ScriptRunContext! This warning can be ignored when running in bare mode.\n",
      "2025-07-27 15:16:32.305 Thread 'MainThread': missing ScriptRunContext! This warning can be ignored when running in bare mode.\n",
      "2025-07-27 15:16:32.306 Thread 'MainThread': missing ScriptRunContext! This warning can be ignored when running in bare mode.\n",
      "2025-07-27 15:16:32.307 Thread 'MainThread': missing ScriptRunContext! This warning can be ignored when running in bare mode.\n",
      "2025-07-27 15:16:32.308 Thread 'MainThread': missing ScriptRunContext! This warning can be ignored when running in bare mode.\n",
      "2025-07-27 15:16:32.309 Thread 'MainThread': missing ScriptRunContext! This warning can be ignored when running in bare mode.\n",
      "2025-07-27 15:16:32.310 Thread 'MainThread': missing ScriptRunContext! This warning can be ignored when running in bare mode.\n",
      "2025-07-27 15:16:56.631 Thread 'MainThread': missing ScriptRunContext! This warning can be ignored when running in bare mode.\n",
      "2025-07-27 15:16:56.631 Thread 'MainThread': missing ScriptRunContext! This warning can be ignored when running in bare mode.\n",
      "2025-07-27 15:16:56.632 Thread 'MainThread': missing ScriptRunContext! This warning can be ignored when running in bare mode.\n"
     ]
    },
    {
     "name": "stdout",
     "output_type": "stream",
     "text": [
      "Operation cancelled.\n"
     ]
    }
   ],
   "source": [
    "import pandas as pd\n",
    "df = pd.read_csv(r\"C:\\country_level_data.csv\")\n",
    "print(df['country_name'])\n",
    "#building a Streamlit app to visualize country-level data\n",
    "import zipfile\n",
    "import tempfile\n",
    "import os\n",
    "import streamlit as st\n",
    "import plotly.express as px\n",
    "import geopandas as gpd\n",
    "\n",
    "st.title('Country Level Data')\n",
    "\n",
    "upload_zip = st.file_uploader(r\"C:\\Users\\ChrisPuduski\\ne_110m_admin_1_states_provinces.zip\", type=[\"zip\"])\n",
    "\n",
    "if upload_zip is not None:\n",
    "    with tempfile.TemporaryDirectory() as tmpdirname:\n",
    "        with zipfile.ZipFile(upload_zip, 'r') as zip_ref:\n",
    "            zip_ref.extractall(tmpdirname)\n",
    "        shapefile_path = os.path.join(tmpdirname, \"ne_110m_admin_1_states_provinces.shp\")\n",
    "        world = gpd.read_file(shapefile_path)\n",
    "        fig = px.choropleth(world, geojson=world.geometry, locations=world.index, color=world['CONTINENT'], hover_name=world['NAME'], projection=\"natural earth\")\n",
    "\n",
    "        fig.update_geos(fitbounds=\"locations\", visible=False)\n",
    "        st.plotly_chart(fig, use_container_width=True)\n",
    "else:\n",
    "    st.info(\"Please upload a zip file containing the shapefile\")\n",
    "\n",
    "get_ipython().run_line_magic('save', 'Country%Test.py 1-40')\n",
    "st.write(\"This is a simple Streamlit app that displays country-level data on a map.\")\n",
    "\n",
    "      "
   ]
  }
 ],
 "metadata": {
  "kernelspec": {
   "display_name": "Python 3",
   "language": "python",
   "name": "python3"
  },
  "language_info": {
   "codemirror_mode": {
    "name": "ipython",
    "version": 3
   },
   "file_extension": ".py",
   "mimetype": "text/x-python",
   "name": "python",
   "nbconvert_exporter": "python",
   "pygments_lexer": "ipython3",
   "version": "3.13.5"
  }
 },
 "nbformat": 4,
 "nbformat_minor": 5
}
